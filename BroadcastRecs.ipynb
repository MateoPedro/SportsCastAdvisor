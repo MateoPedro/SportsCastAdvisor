{
 "cells": [
  {
   "cell_type": "markdown",
   "id": "36b73a78",
   "metadata": {},
   "source": [
    "# JSON file Cleaning"
   ]
  },
  {
   "cell_type": "code",
   "execution_count": 106,
   "id": "ee385fbc",
   "metadata": {},
   "outputs": [
    {
     "data": {
      "text/html": [
       "<div>\n",
       "<style scoped>\n",
       "    .dataframe tbody tr th:only-of-type {\n",
       "        vertical-align: middle;\n",
       "    }\n",
       "\n",
       "    .dataframe tbody tr th {\n",
       "        vertical-align: top;\n",
       "    }\n",
       "\n",
       "    .dataframe thead th {\n",
       "        text-align: right;\n",
       "    }\n",
       "</style>\n",
       "<table border=\"1\" class=\"dataframe\">\n",
       "  <thead>\n",
       "    <tr style=\"text-align: right;\">\n",
       "      <th></th>\n",
       "      <th>sport</th>\n",
       "      <th>Competition</th>\n",
       "      <th>broadcaster</th>\n",
       "    </tr>\n",
       "  </thead>\n",
       "  <tbody>\n",
       "    <tr>\n",
       "      <th>0</th>\n",
       "      <td>football</td>\n",
       "      <td>Ligue des Champions</td>\n",
       "      <td>[Canal+, beIN SPORTS]</td>\n",
       "    </tr>\n",
       "    <tr>\n",
       "      <th>1</th>\n",
       "      <td>football</td>\n",
       "      <td>Ligue des Champions féminine</td>\n",
       "      <td>[DAZN, YouTube]</td>\n",
       "    </tr>\n",
       "    <tr>\n",
       "      <th>2</th>\n",
       "      <td>football</td>\n",
       "      <td>Europa League</td>\n",
       "      <td>[Canal+, RMC Sport]</td>\n",
       "    </tr>\n",
       "    <tr>\n",
       "      <th>3</th>\n",
       "      <td>football</td>\n",
       "      <td>Ligue 1</td>\n",
       "      <td>[Amazon, Canal+]</td>\n",
       "    </tr>\n",
       "    <tr>\n",
       "      <th>4</th>\n",
       "      <td>football</td>\n",
       "      <td>Ligue 2</td>\n",
       "      <td>[Amazon, beIN SPORTS]</td>\n",
       "    </tr>\n",
       "    <tr>\n",
       "      <th>...</th>\n",
       "      <td>...</td>\n",
       "      <td>...</td>\n",
       "      <td>...</td>\n",
       "    </tr>\n",
       "    <tr>\n",
       "      <th>62</th>\n",
       "      <td>Natation</td>\n",
       "      <td>FFN Golden Tour</td>\n",
       "      <td>[beIN SPORTS]</td>\n",
       "    </tr>\n",
       "    <tr>\n",
       "      <th>63</th>\n",
       "      <td>Natation</td>\n",
       "      <td>International Swimming League</td>\n",
       "      <td>[beIN SPORTS]</td>\n",
       "    </tr>\n",
       "    <tr>\n",
       "      <th>64</th>\n",
       "      <td>automoto</td>\n",
       "      <td>Formule 1</td>\n",
       "      <td>[Canal+]</td>\n",
       "    </tr>\n",
       "    <tr>\n",
       "      <th>64</th>\n",
       "      <td>automoto</td>\n",
       "      <td>Moto GP</td>\n",
       "      <td>[Canal+]</td>\n",
       "    </tr>\n",
       "    <tr>\n",
       "      <th>65</th>\n",
       "      <td>MMA</td>\n",
       "      <td>UFC</td>\n",
       "      <td>[RMC Sport]</td>\n",
       "    </tr>\n",
       "  </tbody>\n",
       "</table>\n",
       "<p>105 rows × 3 columns</p>\n",
       "</div>"
      ],
      "text/plain": [
       "       sport                    Competition            broadcaster\n",
       "0   football            Ligue des Champions  [Canal+, beIN SPORTS]\n",
       "1   football   Ligue des Champions féminine        [DAZN, YouTube]\n",
       "2   football                  Europa League    [Canal+, RMC Sport]\n",
       "3   football                        Ligue 1       [Amazon, Canal+]\n",
       "4   football                        Ligue 2  [Amazon, beIN SPORTS]\n",
       "..       ...                            ...                    ...\n",
       "62  Natation                FFN Golden Tour          [beIN SPORTS]\n",
       "63  Natation  International Swimming League          [beIN SPORTS]\n",
       "64  automoto                      Formule 1               [Canal+]\n",
       "64  automoto                        Moto GP               [Canal+]\n",
       "65       MMA                            UFC            [RMC Sport]\n",
       "\n",
       "[105 rows x 3 columns]"
      ]
     },
     "execution_count": 106,
     "metadata": {},
     "output_type": "execute_result"
    }
   ],
   "source": [
    "import pandas as pd\n",
    "import json\n",
    "\n",
    "# Load broadcaster data\n",
    "with open('broadcaster.json') as file:\n",
    "    broadcaster_data = json.load(file)\n",
    "\n",
    "# Load prices data\n",
    "with open('prices.json') as file:\n",
    "    prices_data = json.load(file)\n",
    "\n",
    "df_broadcaster = pd.DataFrame(broadcaster_data)\n",
    "df_prices = pd.DataFrame(prices_data)\n",
    "df_broadcaster['sport'] = df_broadcaster['sport'].str.split(\":\",expand=True)[1]\n",
    "df_broadcaster['sport'] = df_broadcaster['sport'].str.strip()\n",
    "\n",
    "\n",
    "def clean_broadcasters(broadcasters):\n",
    "    cleaned_broadcasters = []\n",
    "    if isinstance(broadcasters, list):\n",
    "        for broadcaster in broadcasters:\n",
    "            broadcaster = broadcaster.replace('\\n', '').strip()\n",
    "            cleaned_broadcasters.append(broadcaster)\n",
    "    return cleaned_broadcasters\n",
    "\n",
    "df_broadcaster['broadcaster'] = df_broadcaster['broadcaster'].apply(clean_broadcasters)\n",
    "df_prices = df_prices.rename(columns={\"channel\": \"broadcaster\"})\n",
    "df_broadcaster = df_broadcaster.explode('Competition')\n",
    "df_broadcaster"
   ]
  },
  {
   "cell_type": "markdown",
   "id": "454728a6",
   "metadata": {},
   "source": [
    "# User input"
   ]
  },
  {
   "cell_type": "code",
   "execution_count": 37,
   "id": "e7378e1c",
   "metadata": {},
   "outputs": [],
   "source": [
    "from IPython.display import display\n",
    "from ipywidgets import widgets"
   ]
  },
  {
   "cell_type": "code",
   "execution_count": 67,
   "id": "57811c7d",
   "metadata": {},
   "outputs": [],
   "source": [
    "valid_sports = ['None'] + df_broadcaster['sport'].unique().tolist()"
   ]
  },
  {
   "cell_type": "code",
   "execution_count": 99,
   "id": "791a0819",
   "metadata": {},
   "outputs": [
    {
     "data": {
      "application/vnd.jupyter.widget-view+json": {
       "model_id": "7a32b1afdef0437a9daad0082a57c4f4",
       "version_major": 2,
       "version_minor": 0
      },
      "text/plain": [
       "Dropdown(description='Sport 1:', options=('None', 'football', 'Basketball', 'Tennis', 'Rugby', 'Handball', 'Vo…"
      ]
     },
     "metadata": {},
     "output_type": "display_data"
    },
    {
     "data": {
      "application/vnd.jupyter.widget-view+json": {
       "model_id": "d0891ca0f932413482d200bbba1edcf9",
       "version_major": 2,
       "version_minor": 0
      },
      "text/plain": [
       "Dropdown(description='Sport 2:', options=('None', 'football', 'Basketball', 'Tennis', 'Rugby', 'Handball', 'Vo…"
      ]
     },
     "metadata": {},
     "output_type": "display_data"
    },
    {
     "data": {
      "application/vnd.jupyter.widget-view+json": {
       "model_id": "d8cf4e35bfd94275a72cfe10e8e31c66",
       "version_major": 2,
       "version_minor": 0
      },
      "text/plain": [
       "Dropdown(description='Sport 3:', options=('None', 'football', 'Basketball', 'Tennis', 'Rugby', 'Handball', 'Vo…"
      ]
     },
     "metadata": {},
     "output_type": "display_data"
    },
    {
     "data": {
      "application/vnd.jupyter.widget-view+json": {
       "model_id": "23bb455f92534c809ea8ad00721a2ec2",
       "version_major": 2,
       "version_minor": 0
      },
      "text/plain": [
       "Dropdown(description='Sport 4:', options=('None', 'football', 'Basketball', 'Tennis', 'Rugby', 'Handball', 'Vo…"
      ]
     },
     "metadata": {},
     "output_type": "display_data"
    },
    {
     "data": {
      "application/vnd.jupyter.widget-view+json": {
       "model_id": "5b41550ae7934842a45273cb156fc016",
       "version_major": 2,
       "version_minor": 0
      },
      "text/plain": [
       "Dropdown(description='Sport 5:', options=('None', 'football', 'Basketball', 'Tennis', 'Rugby', 'Handball', 'Vo…"
      ]
     },
     "metadata": {},
     "output_type": "display_data"
    }
   ],
   "source": [
    "sport_widgets = [widgets.Dropdown(options=valid_sports, description=f'Sport {i+1}:') for i in range(5)]\n",
    "\n",
    "for sport_widget in sport_widgets:\n",
    "    display(sport_widget)"
   ]
  },
  {
   "cell_type": "code",
   "execution_count": 101,
   "id": "35d1017d",
   "metadata": {},
   "outputs": [
    {
     "data": {
      "application/vnd.jupyter.widget-view+json": {
       "model_id": "321338ba98b04e41942eba3695b92064",
       "version_major": 2,
       "version_minor": 0
      },
      "text/plain": [
       "Dropdown(description='Competition 1:', options=('Ligue des Champions', 'Ligue des Champions féminine', 'Europa…"
      ]
     },
     "metadata": {},
     "output_type": "display_data"
    },
    {
     "data": {
      "application/vnd.jupyter.widget-view+json": {
       "model_id": "b6454da0ec2a48698eae38d05321955c",
       "version_major": 2,
       "version_minor": 0
      },
      "text/plain": [
       "Dropdown(description='Competition 2:', options=('Ligue des Champions', 'Ligue des Champions féminine', 'Europa…"
      ]
     },
     "metadata": {},
     "output_type": "display_data"
    },
    {
     "data": {
      "application/vnd.jupyter.widget-view+json": {
       "model_id": "d3a5c4e5760e41319e774b987dc2ccf0",
       "version_major": 2,
       "version_minor": 0
      },
      "text/plain": [
       "Dropdown(description='Competition 3:', options=('NBA', 'Betclic ELITE', 'PRO B', 'Match des Équipes de France …"
      ]
     },
     "metadata": {},
     "output_type": "display_data"
    },
    {
     "data": {
      "application/vnd.jupyter.widget-view+json": {
       "model_id": "884f96384d9645f189f81d45616e948d",
       "version_major": 2,
       "version_minor": 0
      },
      "text/plain": [
       "Dropdown(description='Competition 4:', options=('None',), value='None')"
      ]
     },
     "metadata": {},
     "output_type": "display_data"
    },
    {
     "data": {
      "application/vnd.jupyter.widget-view+json": {
       "model_id": "e423152dcf124d7ba5cd158ccea9c762",
       "version_major": 2,
       "version_minor": 0
      },
      "text/plain": [
       "Dropdown(description='Competition 5:', options=('None',), value='None')"
      ]
     },
     "metadata": {},
     "output_type": "display_data"
    }
   ],
   "source": [
    "competition_widgets = []\n",
    "for i, sport_widget in enumerate(sport_widgets):\n",
    "    if sport_widget.value == 'None':\n",
    "        competition_widgets.append(widgets.Dropdown(options=['None'], description=f'Competition {i+1}:'))\n",
    "    else:\n",
    "        competition_widgets.append(widgets.Dropdown(options=df_broadcaster[df_broadcaster['sport'] == sport_widget.value]['Competition'].unique().tolist(), description=f'Competition {i+1}:'))\n",
    "\n",
    "for competition_widget in competition_widgets:\n",
    "    display(competition_widget)"
   ]
  },
  {
   "cell_type": "code",
   "execution_count": 102,
   "id": "132fc5c0",
   "metadata": {},
   "outputs": [],
   "source": [
    "user_input = [[sport_widget.value, competition_widget.value] for sport_widget, competition_widget in zip(sport_widgets, competition_widgets)]"
   ]
  },
  {
   "cell_type": "code",
   "execution_count": 103,
   "id": "5bef97e7",
   "metadata": {},
   "outputs": [
    {
     "data": {
      "text/plain": [
       "[['football', 'Ligue des Champions'],\n",
       " ['football', 'Europa League'],\n",
       " ['Basketball', 'NBA'],\n",
       " ['None', 'None'],\n",
       " ['None', 'None']]"
      ]
     },
     "execution_count": 103,
     "metadata": {},
     "output_type": "execute_result"
    }
   ],
   "source": [
    "user_input"
   ]
  },
  {
   "cell_type": "markdown",
   "id": "d0e1fd41",
   "metadata": {},
   "source": [
    "# Recommandation logic"
   ]
  },
  {
   "cell_type": "code",
   "execution_count": 110,
   "id": "01b42ca6",
   "metadata": {},
   "outputs": [
    {
     "name": "stdout",
     "output_type": "stream",
     "text": [
      "Recommendation 1: beIN SPORTS with a score of -1.679528403001072\n",
      "Recommendation 2: Canal+ with a score of -2.0\n",
      "Recommendation 3: RMC Sport with a score of -10.394069310468025\n"
     ]
    }
   ],
   "source": [
    "df_broadcaster['broadcaster'] = df_broadcaster['broadcaster'].apply(lambda x: x if isinstance(x, list) else [x])\n",
    "df_broadcaster = df_broadcaster.explode('broadcaster')\n",
    "\n",
    "broadcaster_scores = {broadcaster: 0 for broadcaster in df_prices['broadcaster'].unique()}\n",
    "\n",
    "relevant_broadcasters = set()\n",
    "\n",
    "for i, (sport, competition) in enumerate(user_input):\n",
    "    competition_broadcasters = df_broadcaster[(df_broadcaster['sport'] == sport) & (df_broadcaster['Competition'] == competition)]['broadcaster'].unique()\n",
    "\n",
    "    for broadcaster in competition_broadcasters:\n",
    "        broadcaster_scores[broadcaster] += (5 - i)\n",
    "        relevant_broadcasters.add(broadcaster)\n",
    "        \n",
    "    for broadcaster in set(broadcaster_scores.keys()) - set(competition_broadcasters):\n",
    "        broadcaster_scores[broadcaster] -= (5 - i)\n",
    "\n",
    "# Subtract the proportional price from each broadcaster's score\n",
    "max_price = df_prices['price'].max()\n",
    "for broadcaster in broadcaster_scores:\n",
    "    price = df_prices[df_prices['broadcaster'] == broadcaster]['price'].values[0]\n",
    "    broadcaster_scores[broadcaster] -= price / max_price * 5\n",
    "\n",
    "# Filter the broadcaster_scores dictionary to include only items with a positive score and that are in the set of relevant broadcasters\n",
    "filtered_scores = {broadcaster: score for broadcaster, score in broadcaster_scores.items() if broadcaster in relevant_broadcasters}\n",
    "\n",
    "# Sort the filtered dictionary by score in descending order\n",
    "recommendations = sorted(filtered_scores.items(), key=lambda item: item[1], reverse=True)\n",
    "\n",
    "\n",
    "for i, (broadcaster, score) in enumerate(recommendations):\n",
    "    print(f\"Recommendation {i+1}: {broadcaster} with a score of {score}\")\n"
   ]
  },
  {
   "cell_type": "code",
   "execution_count": null,
   "id": "10ebf81c",
   "metadata": {},
   "outputs": [],
   "source": []
  }
 ],
 "metadata": {
  "kernelspec": {
   "display_name": "Python 3 (ipykernel)",
   "language": "python",
   "name": "python3"
  },
  "language_info": {
   "codemirror_mode": {
    "name": "ipython",
    "version": 3
   },
   "file_extension": ".py",
   "mimetype": "text/x-python",
   "name": "python",
   "nbconvert_exporter": "python",
   "pygments_lexer": "ipython3",
   "version": "3.9.13"
  }
 },
 "nbformat": 4,
 "nbformat_minor": 5
}
